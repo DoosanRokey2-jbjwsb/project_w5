{
 "cells": [
  {
   "cell_type": "code",
   "execution_count": 2,
   "metadata": {},
   "outputs": [],
   "source": [
    "import cv2"
   ]
  },
  {
   "cell_type": "code",
   "execution_count": 3,
   "metadata": {},
   "outputs": [],
   "source": [
    "# 이미지 불러오기\n",
    "img_path = '/home/supreme/250108_Gooro/5w/E-3-5 2025-02-10 181824/pico/0.jpg' # 이미지 파일 경로 설정\n",
    "img = cv2.imread(img_path)"
   ]
  },
  {
   "cell_type": "code",
   "execution_count": 4,
   "metadata": {},
   "outputs": [],
   "source": [
    "\n",
    "# 박스 칠 좌표 설정 (예: 좌측 상단 (50, 50), 우측 하단 (200, 200))\n",
    "start_point = (50, 50) # 박스 시작 좌표 (x, y)\n",
    "end_point = (200, 200) # 박스 끝 좌표 (x, y)\n",
    "color = (0, 255, 0) # BGR 색상 (초록색)\n",
    "thickness = 2 # 박스 선의 두께"
   ]
  },
  {
   "cell_type": "code",
   "execution_count": 5,
   "metadata": {},
   "outputs": [
    {
     "data": {
      "text/plain": [
       "array([[[ 90, 116, 130],\n",
       "        [114, 140, 152],\n",
       "        [147, 169, 180],\n",
       "        ...,\n",
       "        [139, 141, 111],\n",
       "        [135, 134, 106],\n",
       "        [131, 130, 102]],\n",
       "\n",
       "       [[107, 131, 143],\n",
       "        [126, 150, 162],\n",
       "        [152, 175, 183],\n",
       "        ...,\n",
       "        [146, 149, 117],\n",
       "        [141, 141, 111],\n",
       "        [136, 136, 106]],\n",
       "\n",
       "       [[131, 153, 164],\n",
       "        [142, 165, 173],\n",
       "        [158, 180, 186],\n",
       "        ...,\n",
       "        [161, 163, 127],\n",
       "        [155, 154, 120],\n",
       "        [149, 148, 114]],\n",
       "\n",
       "       ...,\n",
       "\n",
       "       [[ 22,  14,  14],\n",
       "        [ 24,  16,  16],\n",
       "        [ 25,  17,  17],\n",
       "        ...,\n",
       "        [145, 153, 152],\n",
       "        [145, 153, 152],\n",
       "        [144, 155, 153]],\n",
       "\n",
       "       [[ 24,  16,  16],\n",
       "        [ 25,  17,  17],\n",
       "        [ 26,  18,  18],\n",
       "        ...,\n",
       "        [146, 154, 153],\n",
       "        [146, 154, 153],\n",
       "        [147, 155, 154]],\n",
       "\n",
       "       [[ 25,  17,  17],\n",
       "        [ 26,  18,  18],\n",
       "        [ 27,  19,  19],\n",
       "        ...,\n",
       "        [148, 154, 153],\n",
       "        [146, 154, 153],\n",
       "        [147, 155, 154]]], dtype=uint8)"
      ]
     },
     "execution_count": 5,
     "metadata": {},
     "output_type": "execute_result"
    }
   ],
   "source": [
    "# 박스 그리기\n",
    "cv2.rectangle(img, start_point, end_point, color, thickness)"
   ]
  },
  {
   "cell_type": "code",
   "execution_count": 6,
   "metadata": {},
   "outputs": [],
   "source": [
    "# 텍스트 설정\n",
    "text = \"Hello, OpenCV!\" # 추가할 텍스트\n",
    "position = (50, 50) # 텍스트 시작 위치 (x, y)\n",
    "font = cv2.FONT_HERSHEY_SIMPLEX # 글꼴 설정\n",
    "font_scale = 1 # 글자 크기\n",
    "color = (0, 255, 0) # BGR 색상 (초록색)\n",
    "thickness = 2 # 글자 두께"
   ]
  },
  {
   "cell_type": "code",
   "execution_count": 7,
   "metadata": {},
   "outputs": [
    {
     "data": {
      "text/plain": [
       "array([[[ 90, 116, 130],\n",
       "        [114, 140, 152],\n",
       "        [147, 169, 180],\n",
       "        ...,\n",
       "        [139, 141, 111],\n",
       "        [135, 134, 106],\n",
       "        [131, 130, 102]],\n",
       "\n",
       "       [[107, 131, 143],\n",
       "        [126, 150, 162],\n",
       "        [152, 175, 183],\n",
       "        ...,\n",
       "        [146, 149, 117],\n",
       "        [141, 141, 111],\n",
       "        [136, 136, 106]],\n",
       "\n",
       "       [[131, 153, 164],\n",
       "        [142, 165, 173],\n",
       "        [158, 180, 186],\n",
       "        ...,\n",
       "        [161, 163, 127],\n",
       "        [155, 154, 120],\n",
       "        [149, 148, 114]],\n",
       "\n",
       "       ...,\n",
       "\n",
       "       [[ 22,  14,  14],\n",
       "        [ 24,  16,  16],\n",
       "        [ 25,  17,  17],\n",
       "        ...,\n",
       "        [145, 153, 152],\n",
       "        [145, 153, 152],\n",
       "        [144, 155, 153]],\n",
       "\n",
       "       [[ 24,  16,  16],\n",
       "        [ 25,  17,  17],\n",
       "        [ 26,  18,  18],\n",
       "        ...,\n",
       "        [146, 154, 153],\n",
       "        [146, 154, 153],\n",
       "        [147, 155, 154]],\n",
       "\n",
       "       [[ 25,  17,  17],\n",
       "        [ 26,  18,  18],\n",
       "        [ 27,  19,  19],\n",
       "        ...,\n",
       "        [148, 154, 153],\n",
       "        [146, 154, 153],\n",
       "        [147, 155, 154]]], dtype=uint8)"
      ]
     },
     "execution_count": 7,
     "metadata": {},
     "output_type": "execute_result"
    }
   ],
   "source": [
    "# 텍스트 추가\n",
    "cv2.putText(img, text, position, font, font_scale, color, thickness, cv2.LINE_AA)"
   ]
  },
  {
   "cell_type": "code",
   "execution_count": 8,
   "metadata": {},
   "outputs": [
    {
     "name": "stderr",
     "output_type": "stream",
     "text": [
      "qt.qpa.plugin: Could not find the Qt platform plugin \"wayland\" in \"/home/supreme/.local/lib/python3.10/site-packages/cv2/qt/plugins\"\n"
     ]
    }
   ],
   "source": [
    "cv2.imshow(\"test\", img)\n",
    "cv2.waitKey(0)\n",
    "cv2.destroyAllWindows()"
   ]
  }
 ],
 "metadata": {
  "kernelspec": {
   "display_name": "usr",
   "language": "python",
   "name": "python3"
  },
  "language_info": {
   "codemirror_mode": {
    "name": "ipython",
    "version": 3
   },
   "file_extension": ".py",
   "mimetype": "text/x-python",
   "name": "python",
   "nbconvert_exporter": "python",
   "pygments_lexer": "ipython3",
   "version": "3.10.12"
  }
 },
 "nbformat": 4,
 "nbformat_minor": 2
}
